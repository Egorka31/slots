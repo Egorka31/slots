{
 "cells": [
  {
   "cell_type": "code",
   "execution_count": 20,
   "metadata": {},
   "outputs": [],
   "source": [
    "import numpy as np\n",
    "import pandas as pd\n",
    "import random"
   ]
  },
  {
   "cell_type": "code",
   "execution_count": 343,
   "metadata": {},
   "outputs": [],
   "source": [
    "def get_tape(amout_of_simple_letters, free_speens, wild, length):\n",
    "    tape = np.zeros((3, length))\n",
    "    tpr = np.zeros((length))\n",
    "    for j in range(8):\n",
    "        tpr[j * amout_of_simple_letters: (j + 1) * amout_of_simple_letters] = j + 1\n",
    "    tpr[8 * amout_of_simple_letters: 8 * amout_of_simple_letters + free_speens] = 9\n",
    "    tpr[8 * amout_of_simple_letters + free_speens: 8 * amout_of_simple_letters + free_speens + wild] = 10\n",
    "    np.random.shuffle(tpr)\n",
    "    tape[0] = tpr\n",
    "    f = np.append(tape[0], tape[0][0])\n",
    "    f = np.insert(f, 0, f[length - 1])\n",
    "    np.random.shuffle(tpr)\n",
    "    tape[1] = tpr\n",
    "    s = np.append(tape[1], tape[1][0])\n",
    "    s = np.insert(s, 0, s[length - 1])\n",
    "    np.random.shuffle(tpr)\n",
    "    tape[2] = tpr\n",
    "    fr = np.append(tape[2], tape[2][0])\n",
    "    fr = np.insert(fr, 0, fr[length - 1])\n",
    "    tape = np.zeros((3, length + 2))\n",
    "    tape[0] = f\n",
    "    tape[1] = s\n",
    "    tape[2] = fr\n",
    "    return tape"
   ]
  },
  {
   "cell_type": "code",
   "execution_count": 448,
   "metadata": {},
   "outputs": [],
   "source": [
    "tape = get_tape(21,14,9,189)\n",
    "tape2 = get_tape(21,0,9,175)"
   ]
  },
  {
   "cell_type": "code",
   "execution_count": 503,
   "metadata": {},
   "outputs": [],
   "source": [
    "def win(tape, free_spins):\n",
    "    global frees, frequency\n",
    "    sample = np.random.randint(1, len(tape[0]) - 1, 3)\n",
    "    wins = 0\n",
    "    line1 = (tape[0][sample[0] - 1] == tape[1][sample[1] - 1]) + (tape[1][sample[1] - 1] == tape[2][sample[2] - 1]) + (tape[0][sample[0] - 1] == tape[2][sample[2] - 1]) + 2 * (tape[0][sample[0] - 1] == 10) + 2 * (tape[1][sample[1] - 1] == 10) + 2 * (tape[2][sample[2] - 1] == 10)\n",
    "    if line1 >= 3:\n",
    "        num = int(min(tape[0][sample[0] - 1], tape[1][sample[1] - 1], tape[2][sample[2] - 1]))\n",
    "        if free_spins:\n",
    "            payouts[num]+=1\n",
    "        if num != 9:\n",
    "            if num == 10:\n",
    "                wins+=200\n",
    "            else:\n",
    "                wins+=2 * num   \n",
    "            \n",
    "    line2 = (tape[0][sample[0]] == tape[1][sample[1]]) + (tape[1][sample[1]] == tape[2][sample[2]]) + (tape[0][sample[0]] == tape[2][sample[2]]) + 2 * (tape[0][sample[0]] == 10) + 2 * (tape[1][sample[1]] == 10) + 2 * (tape[2][sample[2]] == 10)\n",
    "    if line2 >= 3:\n",
    "        num = int(min(tape[0][sample[0]], tape[1][sample[1]], tape[2][sample[2]]))\n",
    "        if free_spins:\n",
    "            payouts[num]+=1\n",
    "        if num != 9:\n",
    "            if num == 10:\n",
    "                wins+=200\n",
    "            else:\n",
    "                wins+=2 * num    \n",
    "            \n",
    "    line3 = (tape[0][sample[0] + 1] == tape[1][sample[1] + 1]) + (tape[1][sample[1] + 1] == tape[2][sample[2] + 1]) + (tape[0][sample[0] + 1] == tape[2][sample[2] + 1]) + 2 * (tape[0][sample[0] + 1] == 10) + 2 * (tape[1][sample[1] + 1] == 10) + 2 * (tape[2][sample[2] + 1] == 10)\n",
    "    if line3 >= 3:\n",
    "        num = int(min(tape[0][sample[0] + 1], tape[1][sample[1] + 1], tape[2][sample[2] + 1]))\n",
    "        if free_spins:\n",
    "            payouts[num]+=1\n",
    "        if num != 9:\n",
    "            if num == 10:\n",
    "                wins+=200\n",
    "            else:\n",
    "                wins+=2 * num \n",
    "            \n",
    "    \n",
    "    line4 = (tape[0][sample[0] - 1] == tape[1][sample[1]]) + (tape[1][sample[1]] == tape[2][sample[2] + 1]) + (tape[0][sample[0] - 1] == tape[2][sample[2] + 1]) + 2 * (tape[0][sample[0] - 1] == 10) + 2 * (tape[1][sample[1]] == 10) + 2 * (tape[2][sample[2] + 1] == 10)\n",
    "    if line4 >= 3:\n",
    "        num = int(min(tape[0][sample[0] - 1], tape[1][sample[1]], tape[2][sample[2] + 1]))\n",
    "        if free_spins:\n",
    "            payouts[num]+=1\n",
    "        if num != 9:\n",
    "            if num == 10:\n",
    "                wins+=200\n",
    "            else:\n",
    "                wins+=2 * num\n",
    "            \n",
    "            \n",
    "    line5 = (tape[0][sample[0] + 1] == tape[1][sample[1]]) + (tape[1][sample[1]] == tape[2][sample[2] - 1]) + (tape[0][sample[0] + 1] == tape[2][sample[2] - 1]) + 2 * (tape[0][sample[0] + 1] == 10) + 2 * (tape[1][sample[1]] == 10) + 2 * (tape[2][sample[2] - 1] == 10)\n",
    "    if line5 >= 3:\n",
    "        num = int(min(tape[0][sample[0] + 1], tape[1][sample[1]], tape[2][sample[2] - 1]))\n",
    "        if free_spins:\n",
    "            payouts[num]+=1\n",
    "        if num != 9:\n",
    "            if num == 10:\n",
    "                wins+=200\n",
    "            else:\n",
    "                wins+=2 * num\n",
    "            \n",
    "        \n",
    "    if free_spins:\n",
    "        count = int(tape[0][sample[0]] == 9) + int(tape[0][sample[0] - 1] == 9) + int(tape[0][sample[0] + 1] == 9) + (tape[1][sample[1]] == 9) + (tape[1][sample[1] - 1] == 9) + (tape[1][sample[1] + 1] == 9) + (tape[2][sample[2]] == 9) + (tape[2][sample[2] - 1] == 9) + (tape[2][sample[2] + 1] == 9)\n",
    "        if count >= 3:\n",
    "            frequency += 1\n",
    "            for _ in range(10):\n",
    "                tpr = win(tape2, free_spins = False)\n",
    "                frees+= tpr\n",
    "                wins+=tpr\n",
    "    return wins"
   ]
  },
  {
   "cell_type": "markdown",
   "metadata": {},
   "source": [
    "Симуляция"
   ]
  },
  {
   "cell_type": "code",
   "execution_count": 504,
   "metadata": {},
   "outputs": [
    {
     "data": {
      "text/plain": [
       "-0.07604599999999995"
      ]
     },
     "execution_count": 504,
     "metadata": {},
     "output_type": "execute_result"
    }
   ],
   "source": [
    "n = 10000000\n",
    "payouts = np.zeros(11)\n",
    "frequency = 0\n",
    "sum_of_wins = 0\n",
    "frees = 0\n",
    "for i in range(n):\n",
    "    wins = win(tape, free_spins = True)\n",
    "    sum_of_wins+=wins\n",
    "sum_of_wins / n - 1 "
   ]
  },
  {
   "cell_type": "markdown",
   "metadata": {},
   "source": [
    "Всякие данные для заполнения таблички "
   ]
  },
  {
   "cell_type": "code",
   "execution_count": 505,
   "metadata": {},
   "outputs": [
    {
     "name": "stdout",
     "output_type": "stream",
     "text": [
      "[0.      0.91789 0.9165  0.91823 0.91605 0.9099  0.91896 0.91235 0.91421\n",
      " 0.46038 0.02569]\n"
     ]
    }
   ],
   "source": [
    "print(payouts / n * 100)"
   ]
  },
  {
   "cell_type": "code",
   "execution_count": 506,
   "metadata": {},
   "outputs": [
    {
     "name": "stdout",
     "output_type": "stream",
     "text": [
      "21.39106\n"
     ]
    }
   ],
   "source": [
    "print(frees / n * 100)"
   ]
  },
  {
   "cell_type": "code",
   "execution_count": 507,
   "metadata": {},
   "outputs": [
    {
     "name": "stdout",
     "output_type": "stream",
     "text": [
      "[ 0.       1.83578  3.666    5.50938  7.3284   9.099   11.02752 12.7729\n",
      " 14.62736  0.       5.138  ]\n"
     ]
    }
   ],
   "source": [
    "print(payouts / n * np.array([0, 2, 4,6,8,10,12,14, 16, 0, 200]) * 100)"
   ]
  },
  {
   "cell_type": "code",
   "execution_count": 508,
   "metadata": {},
   "outputs": [
    {
     "name": "stdout",
     "output_type": "stream",
     "text": [
      "2.39425\n"
     ]
    }
   ],
   "source": [
    "print(frequency / n * 100)"
   ]
  },
  {
   "cell_type": "code",
   "execution_count": 510,
   "metadata": {},
   "outputs": [],
   "source": [
    "def cast(x):\n",
    "    if int(x) == 10:\n",
    "        return 'Wild'\n",
    "    elif int(x) == 9:\n",
    "        return 'Free Spins'\n",
    "    else:\n",
    "        return 'High ' + str(int(x) + 1)"
   ]
  },
  {
   "cell_type": "code",
   "execution_count": 511,
   "metadata": {},
   "outputs": [],
   "source": [
    "table = pd.DataFrame()\n",
    "table['First spin'] = np.array(list(map(cast, tape[0]))[1: -1])\n",
    "table['Second spin'] = np.array(list(map(cast, tape[1]))[1: -1])\n",
    "table['Third spin'] = np.array(list(map(cast, tape[2]))[1: -1])"
   ]
  },
  {
   "cell_type": "code",
   "execution_count": 514,
   "metadata": {},
   "outputs": [],
   "source": [
    "table2 = pd.DataFrame()\n",
    "table2['First spin'] = np.array(list(map(cast, tape2[0]))[1: -1])\n",
    "table2['Second spin'] = np.array(list(map(cast, tape2[1]))[1: -1])\n",
    "table2['Third spin'] = np.array(list(map(cast, tape2[2]))[1: -1])"
   ]
  },
  {
   "cell_type": "code",
   "execution_count": 519,
   "metadata": {},
   "outputs": [],
   "source": [
    "table.to_excel(\"lenta.xlsx\")  "
   ]
  },
  {
   "cell_type": "code",
   "execution_count": 520,
   "metadata": {},
   "outputs": [],
   "source": [
    "table2.to_excel(\"Free_spin_lenta.xlsx\")  "
   ]
  }
 ],
 "metadata": {
  "kernelspec": {
   "display_name": "Python 3",
   "language": "python",
   "name": "python3"
  },
  "language_info": {
   "codemirror_mode": {
    "name": "ipython",
    "version": 3
   },
   "file_extension": ".py",
   "mimetype": "text/x-python",
   "name": "python",
   "nbconvert_exporter": "python",
   "pygments_lexer": "ipython3",
   "version": "3.7.3"
  }
 },
 "nbformat": 4,
 "nbformat_minor": 2
}
